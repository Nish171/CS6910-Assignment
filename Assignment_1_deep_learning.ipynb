{
  "nbformat": 4,
  "nbformat_minor": 0,
  "metadata": {
    "colab": {
      "name": "Assignment_1_deep_learning.ipynb",
      "provenance": [],
      "collapsed_sections": [],
      "include_colab_link": true
    },
    "kernelspec": {
      "name": "python3",
      "display_name": "Python 3"
    }
  },
  "cells": [
    {
      "cell_type": "markdown",
      "metadata": {
        "id": "view-in-github",
        "colab_type": "text"
      },
      "source": [
        "<a href=\"https://colab.research.google.com/github/sanjeevrs2000/CS6910-Assignment/blob/main/Assignment_1_deep_learning.ipynb\" target=\"_parent\"><img src=\"https://colab.research.google.com/assets/colab-badge.svg\" alt=\"Open In Colab\"/></a>"
      ]
    },
    {
      "cell_type": "code",
      "metadata": {
        "id": "ZuK0pkO0-NEl"
      },
      "source": [
        "import numpy as np\n",
        "import pandas as pd\n",
        "import keras\n",
        "import math\n",
        "import matplotlib.pyplot as plt\n",
        "import tensorflow as tf\n",
        "import tensorflow_datasets as tdfs"
      ],
      "execution_count": 1,
      "outputs": []
    },
    {
      "cell_type": "code",
      "metadata": {
        "id": "W9f1IcGE-ylT"
      },
      "source": [
        "from keras.datasets import fashion_mnist"
      ],
      "execution_count": 2,
      "outputs": []
    },
    {
      "cell_type": "code",
      "metadata": {
        "id": "63jtDyXR-8Wb",
        "colab": {
          "base_uri": "https://localhost:8080/"
        },
        "outputId": "e780c5ee-5bab-474d-d4fb-690d06f32328"
      },
      "source": [
        "(trainx, trainy), (testx, testy)= fashion_mnist.load_data()"
      ],
      "execution_count": 3,
      "outputs": [
        {
          "output_type": "stream",
          "text": [
            "Downloading data from https://storage.googleapis.com/tensorflow/tf-keras-datasets/train-labels-idx1-ubyte.gz\n",
            "32768/29515 [=================================] - 0s 0us/step\n",
            "Downloading data from https://storage.googleapis.com/tensorflow/tf-keras-datasets/train-images-idx3-ubyte.gz\n",
            "26427392/26421880 [==============================] - 0s 0us/step\n",
            "Downloading data from https://storage.googleapis.com/tensorflow/tf-keras-datasets/t10k-labels-idx1-ubyte.gz\n",
            "8192/5148 [===============================================] - 0s 0us/step\n",
            "Downloading data from https://storage.googleapis.com/tensorflow/tf-keras-datasets/t10k-images-idx3-ubyte.gz\n",
            "4423680/4422102 [==============================] - 0s 0us/step\n"
          ],
          "name": "stdout"
        }
      ]
    },
    {
      "cell_type": "code",
      "metadata": {
        "id": "Jv_U2q2O_Ae1",
        "colab": {
          "base_uri": "https://localhost:8080/"
        },
        "outputId": "775de4de-edee-419f-f96d-5f4920cd419f"
      },
      "source": [
        "classes = np.unique(trainy)\n",
        "index_mat = [0]*10\n",
        "for i in classes:\n",
        "  index_mat[i] = trainy.tolist().index(i)\n",
        "index_mat"
      ],
      "execution_count": 4,
      "outputs": [
        {
          "output_type": "execute_result",
          "data": {
            "text/plain": [
              "[1, 16, 5, 3, 19, 8, 18, 6, 23, 0]"
            ]
          },
          "metadata": {
            "tags": []
          },
          "execution_count": 4
        }
      ]
    },
    {
      "cell_type": "code",
      "metadata": {
        "id": "gJVzuoGqCaYe",
        "colab": {
          "base_uri": "https://localhost:8080/",
          "height": 555
        },
        "outputId": "91ae7b22-8e7c-4da4-d334-3bac32ea124a"
      },
      "source": [
        "plt.figure(figsize=(10,10))\n",
        "\n",
        "for j, i in enumerate(index_mat):\n",
        "  plt.subplot(3,4,j+1)\n",
        "  plt.imshow(trainx[i], cmap=plt.get_cmap('gray'))\n",
        "  \n",
        "plt.show()"
      ],
      "execution_count": 5,
      "outputs": [
        {
          "output_type": "display_data",
          "data": {
            "image/png": "[encoded data removed]",
            "text/plain": [
              "<Figure size 720x720 with 10 Axes>"
            ]
          },
          "metadata": {
            "tags": [],
            "needs_background": "light"
          }
        }
      ]
    },
    {
      "cell_type": "markdown",
      "metadata": {
        "id": "OVg4nkolBLvH"
      },
      "source": [
        "**Defining the Neural Network**\n"
      ]
    },
    {
      "cell_type": "code",
      "metadata": {
        "id": "zmSEEiteEX-O"
      },
      "source": [
        "num_hidden_layers = 3    #Input the number of hidden layers here         \n",
        "\n",
        "input_layer_size = 784  #input number of inputs here\n",
        "\n",
        "output_layer_size = 10  #input number of output nodes here\n",
        "\n",
        "num_nodes = [input_layer_size, 32, 32, 32, output_layer_size]  # input number of nodes in each layer here!\n",
        "\n",
        "num_weight_mat = num_hidden_layers+1"
      ],
      "execution_count": 6,
      "outputs": []
    },
    {
      "cell_type": "markdown",
      "metadata": {
        "id": "izvGxTbgBglf"
      },
      "source": [
        "**Weight Initialization Functions**"
      ]
    },
    {
      "cell_type": "code",
      "metadata": {
        "id": "ZLxSvg-3dPsd"
      },
      "source": [
        "def init_random():\n",
        "  weights={}\n",
        "  bias = {}\n",
        "  for i in  range(1,num_weight_mat+1):\n",
        "    weights['W%s'% i] = np.random.randn(int(num_nodes[i]),int(num_nodes[i-1]))\n",
        "    bias['b%s'% i] = np.random.randn(int(num_nodes[i]))\n",
        "    \n",
        "  return weights, bias\n",
        "\n",
        "def init_xavier():\n",
        "  weights={}\n",
        "  bias = {}\n",
        "  for i in  range(1,num_weight_mat+1):\n",
        "    weights['W%s'%i] = np.random.normal(0, 1/input_layer_size ,size=([int(num_nodes[i]),int(num_nodes[i-1])]))\n",
        "    bias['b%s'%i] = np.ones(int(num_nodes[i]))\n",
        "    \n",
        "  return weights, bias\n",
        "\n",
        "def init_zeros():\n",
        "  weights={}\n",
        "  bias = {}\n",
        "  for i in  range(1,num_weight_mat+1):\n",
        "    weights['W%s'% i] = np.zeros([int(num_nodes[i]),int(num_nodes[i-1])])\n",
        "    bias['b%s'% i] = np.zeros(int(num_nodes[i]))\n",
        "\n",
        "  return weights,bias\n"
      ],
      "execution_count": 7,
      "outputs": []
    },
    {
      "cell_type": "code",
      "metadata": {
        "id": "ettVfA6NdkpO"
      },
      "source": [
        "weights, bias = init_random()"
      ],
      "execution_count": 8,
      "outputs": []
    },
    {
      "cell_type": "markdown",
      "metadata": {
        "id": "LTXvSYKOBsWK"
      },
      "source": [
        "**Activation Functions**"
      ]
    },
    {
      "cell_type": "code",
      "metadata": {
        "id": "EKFvn_AuzWK8"
      },
      "source": [
        "def sigmoid(x):\n",
        "    return 1/(1+np.exp(-x))\n",
        "\n",
        "def tanh(x):\n",
        "  return (np.exp(x)-np.exp(-x))/(np.exp(x)+np.exp(-x))\n",
        "\n",
        "def relu(x):\n",
        "  if x<0:\n",
        "    return 0\n",
        "  else:\n",
        "    return x"
      ],
      "execution_count": 9,
      "outputs": []
    },
    {
      "cell_type": "markdown",
      "metadata": {
        "id": "relsJyiAB2HX"
      },
      "source": [
        "**Gradients of Activation functions**"
      ]
    },
    {
      "cell_type": "code",
      "metadata": {
        "id": "cpo7WQtZB9hK"
      },
      "source": [
        "def grad_tanh(x):\n",
        "  return 1-(tanh(x))^2\n",
        "\n",
        "def grad_relu(x):\n",
        "  if x<0:\n",
        "    return 0\n",
        "  else:\n",
        "    return 1\n",
        "\n",
        "def grad_sigmoid(x):\n",
        "  return (sigmoid(x)*(1-sigmoid(x)))"
      ],
      "execution_count": 10,
      "outputs": []
    },
    {
      "cell_type": "markdown",
      "metadata": {
        "id": "c2Js04g7CCr6"
      },
      "source": [
        "**Output Function**"
      ]
    },
    {
      "cell_type": "code",
      "metadata": {
        "id": "sTTtCT8yCHG2"
      },
      "source": [
        "def softmax(x):\n",
        "    # Numerically stable with large exponentials\n",
        "    exps = np.exp(x )\n",
        "    return exps / np.sum(exps)"
      ],
      "execution_count": 11,
      "outputs": []
    },
    {
      "cell_type": "markdown",
      "metadata": {
        "id": "Xt2U2GPSCNGy"
      },
      "source": [
        "**Funtion for Forward Propagation**"
      ]
    },
    {
      "cell_type": "code",
      "metadata": {
        "id": "oBx_jT8QzT3s"
      },
      "source": [
        "\"\"\"\n",
        "Inputs required:\n",
        "\n",
        "  weights and bias\n",
        "  x_train\n",
        "  activation function\n",
        "  output function\n",
        "  num of hidden layers\n",
        "\n",
        "\n",
        "\"\"\"\n",
        "\n",
        "\n",
        "\n",
        "def forward_prop(w,b,x, activation):\n",
        "  Acti = {}\n",
        "  H = {}\n",
        "  \n",
        "  H['H0'] = x\n",
        "  \n",
        "  for i in range(1,num_hidden_layers+1):\n",
        "    Acti[('A%s'% i)] = np.matmul(w['W%s'% i],H[('H%s'% (i-1))])+b['b%s'% i]\n",
        "    H['H%s'% i] = activation(Acti['A%s'% i])\n",
        "  \n",
        "  Acti['A%s'%(num_hidden_layers+1)]= np.matmul(w['W%s'% (num_hidden_layers+1)],H['H%s'% (num_hidden_layers)])+b['b%s'% (num_hidden_layers+1)]\n",
        "  y_hat = output(Acti['A%s'% (num_hidden_layers+1)])  \n",
        "  \n",
        "  return y_hat, Acti, H\n",
        "\n"
      ],
      "execution_count": 12,
      "outputs": []
    },
    {
      "cell_type": "code",
      "metadata": {
        "id": "zcRfsy9P--ak",
        "colab": {
          "base_uri": "https://localhost:8080/"
        },
        "outputId": "67c377cb-a089-4e22-ab19-68897bb42050"
      },
      "source": [
        "x_train = trainx.reshape(60000,784)/255.0\r\n",
        "#one hot encoding y \r\n",
        "temp = np.zeros((60000,10))\r\n",
        "temp[np.arange(60000),trainy] = 1\r\n",
        "y_train=temp\r\n",
        "y_train\r\n",
        "#trainy"
      ],
      "execution_count": 13,
      "outputs": [
        {
          "output_type": "execute_result",
          "data": {
            "text/plain": [
              "array([[0., 0., 0., ..., 0., 0., 1.],\n",
              "       [1., 0., 0., ..., 0., 0., 0.],\n",
              "       [1., 0., 0., ..., 0., 0., 0.],\n",
              "       ...,\n",
              "       [0., 0., 0., ..., 0., 0., 0.],\n",
              "       [1., 0., 0., ..., 0., 0., 0.],\n",
              "       [0., 0., 0., ..., 0., 0., 0.]])"
            ]
          },
          "metadata": {
            "tags": []
          },
          "execution_count": 13
        }
      ]
    },
    {
      "cell_type": "code",
      "metadata": {
        "id": "8jox0GAl970Q"
      },
      "source": [
        "output = softmax\n",
        "y_, A, H = forward_prop(weights,bias,x_train[1], sigmoid)"
      ],
      "execution_count": 16,
      "outputs": []
    },
    {
      "cell_type": "markdown",
      "metadata": {
        "id": "OIeb3fW3CZwB"
      },
      "source": [
        "**Funtion for Back propagation**"
      ]
    },
    {
      "cell_type": "code",
      "metadata": {
        "id": "ZbGrp66HX71j"
      },
      "source": [
        "\"\"\"\n",
        "\n",
        "# grad_A[Al] = -(y-y_hat)\n",
        "# grad_W[Wk] = grad_A[Ak]*H[H(k-1)]'\n",
        "# grad_b[bk] = grad_A[Ak]\n",
        "# grad_H[H(k-1)] = W[Wk]'*grad_A[Ak]\n",
        "# grad_A[A(k-1)] = grad_H[H(k-1)] (dot) grad_g(A(k-1)) \n",
        "\n",
        "# y(one-hot-encoded)\n",
        "#y_hat\n",
        "#H matrix from feed forward\n",
        "#A matrix from feed forward\n",
        "#grad_g func\n",
        "\n",
        "Inputs required:\n",
        "\n",
        "  weights and bias\n",
        "  forward_prop (y_hat, A, H)\n",
        "  x_train, y_train\n",
        "  activation func\n",
        "  Derivative of activation func\n",
        "  num of hidden layers\n",
        "\n",
        "\n",
        "\n",
        "\"\"\"\n",
        "\n",
        "\n",
        "def back_prop( w,b,der_activ ,x,y):\n",
        "  grad_A = {}\n",
        "  grad_W = {}\n",
        "  grad_b = {}\n",
        "  grad_H = {}  \n",
        "\n",
        "  y_hat, A, H = forward_prop(w,b,x, sigmoid)\n",
        "\n",
        "  grad_A['A%s'% (num_hidden_layers+1)] = -(y-y_hat)\n",
        "\n",
        "  for i in range(num_hidden_layers+1, 1, -1):\n",
        "    \n",
        "    grad_W['W%s'%i] = np.matmul(grad_A['A%s'%i].reshape(-1,1), H['H%s'%(i-1)].reshape(1,-1))\n",
        "\n",
        "    grad_b['b%s'%i] = grad_A['A%s'%i]\n",
        "\n",
        "    grad_H['H%s'%(i-1)] = np.dot(np.transpose(w['W%s'%i]), grad_A['A%s'%i]) #check once if this is logically correct (Looks good)\n",
        "\n",
        "    grad_A['A%s'%(i-1)] = np.multiply(grad_H['H%s'%(i-1)], der_activ(A['A%s'%(i-1)]))\n",
        "\n",
        "  grad_W['W1'] = np.multiply(grad_A['A1'].reshape(-1,1), H['H0'].reshape(1,-1))\n",
        "\n",
        "  grad_b['b1'] = grad_A['A1']\n",
        "\n",
        "  return grad_W, grad_b\n",
        "\n",
        "\n",
        "\n"
      ],
      "execution_count": 17,
      "outputs": []
    },
    {
      "cell_type": "markdown",
      "metadata": {
        "id": "53bDvB_lCiq1"
      },
      "source": [
        "## **Optimization Funtions**\n",
        "\n"
      ]
    },
    {
      "cell_type": "markdown",
      "metadata": {
        "id": "ZO19Sku2C3nE"
      },
      "source": [
        "**Stochastic Gradient descent**"
      ]
    },
    {
      "cell_type": "code",
      "metadata": {
        "id": "pzQX3-PoJ6-P"
      },
      "source": [
        "\"\"\"\r\n",
        "Inputs required:\r\n",
        "\r\n",
        "  X, Y => x_train and y_train\r\n",
        "  epochs\r\n",
        "  eta\r\n",
        "  weights and bias\r\n",
        "  grad of activation func\r\n",
        "  num of hidden layers\r\n",
        "\r\n",
        "\r\n",
        "\r\n",
        "\"\"\"\r\n",
        "\r\n",
        "\r\n",
        "def sgd(epochs, eta):\r\n",
        "\r\n",
        "  for k in range(epochs):\r\n",
        "    for x,y in zip(X,Y):\r\n",
        "      grad_w,grad_b=back_prop( weights,bias,grad_sigmoid,x,y)\r\n",
        "      for j in range(1,num_hidden_layers+2):\r\n",
        "        \r\n",
        "        weights['W%s'%j]-=(grad_w['W%s'%j])*eta\r\n",
        "        bias['b%s'%j]-=(grad_b['b%s'%j])*eta\r\n"
      ],
      "execution_count": 32,
      "outputs": []
    },
    {
      "cell_type": "markdown",
      "metadata": {
        "id": "41DoRI9sDIA1"
      },
      "source": [
        "**Momentum based Gradient descent**\n"
      ]
    },
    {
      "cell_type": "code",
      "metadata": {
        "id": "fY8KWQS2DUmt"
      },
      "source": [
        "\"\"\"\n",
        "Inputs required:\n",
        "\n",
        "  X, Y => x_train and y_train\n",
        "  epochs\n",
        "  eta\n",
        "  weights and bias\n",
        "  grad of activation func\n",
        "  num of hidden layers\n",
        "  batch size\n",
        "  gamma\n",
        "  init_zeros()\n",
        "  \n",
        "\n",
        "\n",
        "\"\"\"\n",
        "\n",
        "def momentum_gd(epochs,eta,batch_size):\n",
        "\n",
        "  gamma=0.9\n",
        "  prev_dw,prev_db=init_zeros()\n",
        "\n",
        "  for k in range(epochs):\n",
        "    count=0   \n",
        "   \n",
        "    dw,db=init_zeros()\n",
        "    \n",
        "    for x,y in zip(X,Y):\n",
        "      \n",
        "      if count==0:\n",
        "        dw,db=init_zeros()\n",
        "      \n",
        "      grad_w,grad_b=back_prop( weights,bias, grad_sigmoid,x,y)\n",
        "\n",
        "      for j in range(1,num_hidden_layers+2):\n",
        "        dw['W%s'%j]+=(grad_w['W%s'%j])\n",
        "        db['b%s'%j]+=(grad_b['b%s'%j])\n",
        "\n",
        "\n",
        "\n",
        "      count+=1\n",
        "\n",
        "      if count%batch_size==0:\n",
        "        weights['W%s'%j]=weights['W%s'%j]-(prev_dw['W%s'%j])*gamma-(dw['W%s'%j])*eta\n",
        "        bias['b%s'%j]=bias['b%s'%j]-(prev_db['b%s'%j])*gamma-(db['b%s'%j])*eta\n",
        "\n",
        "        prev_dw['W%s'%j]=(prev_dw['W%s'%j])*gamma+(dw['W%s'%j])*eta\n",
        "        prev_db['b%s'%j]=(prev_db['b%s'%j])*gamma+(db['b%s'%j])*eta\n",
        "\n",
        "        count=0"
      ],
      "execution_count": 19,
      "outputs": []
    },
    {
      "cell_type": "markdown",
      "metadata": {
        "id": "8L4ZAWz9DNOM"
      },
      "source": [
        "**Nesterov Accelerated Gradient Descent**"
      ]
    },
    {
      "cell_type": "code",
      "metadata": {
        "id": "1msdw8KvDZ_g"
      },
      "source": [
        "def nesterov(epochs,eta,batch_size):\n",
        "\n",
        "  gamma=0.9\n",
        "  prev_vw,prev_vb=init_zeros()\n",
        "  temp_w,temp_b=init_zeros()\n",
        "  dw,db=init_zeros()\n",
        "  v_w,v_b=init_zeros()\n",
        "\n",
        "  for k in range(epochs):\n",
        "    count=0\n",
        "\n",
        "    if count==0:\n",
        "      for j in range(1,num_hidden_layers+2):\n",
        "          v_w['W%s'%j]=prev_vw['W%s'%j]*gamma \n",
        "          v_b['b%s'%j]=prev_vb['b%s'%j]*gamma \n",
        "\n",
        "\n",
        "    for x,y in zip(X,Y):\n",
        "      if count==0:\n",
        "        dw,db=init_zeros()\n",
        "\n",
        "      for j in range(1,num_hidden_layers+2):\n",
        "        temp_w['W%s'%j]=weights['W%s'%j]-v_w['W%s'%j]\n",
        "        temp_b['b%s'%j]=bias['b%s'%j]-v_b['b%s'%j]\n",
        "      \n",
        "      grad_w,grad_b=back_prop(temp_w,temp_b,grad_sigmoid,x,y)      \n",
        "      for j in range(1,num_hidden_layers+2):\n",
        "        dw['W%s'%j]+=(grad_w['W%s'%j])\n",
        "        db['b%s'%j]+=(grad_b['b%s'%j])\n",
        "      count+=1\n",
        "\n",
        "      if count%batch_size==0:\n",
        "        \n",
        "        for j in range(1,num_hidden_layers+2):\n",
        "          v_w['W%s'%j]=(prev_vw['W%s'%j])*gamma + (dw['W%s'%j])*eta\n",
        "          v_b['b%s'%j]=(prev_vb['b%s'%j])*gamma + (db['b%s'%j])*eta\n",
        "          weights['W%s'%j]-=v_w['W%s'%j]\n",
        "          bias['b%s'%j]-=v_b['b%s'%j]\n",
        "          prev_vw['W%s'%j]=v_w['W%s'%j]\n",
        "          prev_vb['b%s'%j]=v_b['b%s'%j]\n",
        "\n",
        "        count=0"
      ],
      "execution_count": 20,
      "outputs": []
    },
    {
      "cell_type": "code",
      "metadata": {
        "id": "U9JQ5j7WgSQj"
      },
      "source": [
        "#sample run\r\n",
        "X,Y=x_train[:1000],y_train[:1000]\r\n",
        "weights,bias=init_random()\r\n",
        "#momentum_gd(5,0.1,64) # takes approx 2 mins to train full training set ie 60000 inputs\r\n",
        "#sgd(0.1,5) \r\n",
        "nesterov(5,0.1,32)\r\n",
        "\r\n",
        "#forward_prop()"
      ],
      "execution_count": 21,
      "outputs": []
    },
    {
      "cell_type": "markdown",
      "metadata": {
        "id": "ZlEAt8oEDy0P"
      },
      "source": [
        "# **Train Function**"
      ]
    },
    {
      "cell_type": "code",
      "metadata": {
        "id": "kaDEL9aRj-1o"
      },
      "source": [
        "\"\"\"\n",
        "Code for train funtion:\n",
        "\n",
        "Inputs:\n",
        "\n",
        "  1. num_epochs\n",
        "  2. num_hidden_layers\n",
        "  3. size of hidden layers\n",
        "  4. weight decay (L2 regularisation)\n",
        "  5. learning rate\n",
        "  6. Optimizer\n",
        "  7. Batch size\n",
        "  8. weight initialisation\n",
        "  9. activation functions\n",
        "\n",
        "  10. x_train, y_train\n",
        "  11. train-test-split\n",
        "\n",
        "def train(inputs):\n",
        "\n",
        "  # X,Y,X_val,Y_val = split data into train and validation data sets\n",
        "  \n",
        "  # Y should be one-hot encoded!!!!\n",
        "\n",
        "  # if loops for optimiser\n",
        "  # if loop for activation func\n",
        "  # if loop for derivative of activation func\n",
        "  # if loop for weight initialization\n",
        "\n",
        "  #initialize weights\n",
        "  #call optimizer\n",
        "\n",
        "\n",
        "\"\"\"\n",
        "\n",
        "def Train(x_train, y_train, epochs=5, eta=0.001, nhidden=3, size=32, initialization='xavier', activation='sigmoid', optimization='sgd', batch_size=16 , gamma=0.9, wt_decay=0, output_func='softmax'):            #define inputs\n",
        "  \n",
        "  eta = eta\n",
        "\n",
        "  epochs = epochs\n",
        "  \n",
        "  num_hidden_layers = nhidden            \n",
        "\n",
        "  input_layer_size = 784  #input number of inputs here\n",
        "\n",
        "  output_layer_size = 10  #input number of output nodes here\n",
        "\n",
        "  num_nodes = [input_layer_size]\n",
        "\n",
        "  #num_nodes = num_nodes.append(input_layer_size)\n",
        "  for i in range(nhidden):\n",
        "    num_nodes.append(size)\n",
        "  num_nodes.append(output_layer_size)\n",
        "\n",
        "  num_weight_mat = num_hidden_layers+1\n",
        "\n",
        "  batch_size = batch_size\n",
        "\n",
        "  L2 = wt_decay\n",
        "\n",
        "  #Setting weight initialization function\n",
        "  if initialization == 'random':\n",
        "    wt_init = init_random\n",
        "  elif initialization == 'xavier':\n",
        "    wt_init = init_xavier\n",
        "  else:\n",
        "    print('weight initialization given is not available')\n",
        "\n",
        "  #Setting activation function and its derivative\n",
        "  if activation == 'sigmoid':\n",
        "    activ = sigmoid\n",
        "    der_activ = grad_sigmoid\n",
        "  elif activation == 'tanh':\n",
        "    activ = tanh\n",
        "    der_activ = grad_tanh\n",
        "  elif activation == 'relu':\n",
        "    activ = relu\n",
        "    der_activ = grad_relu\n",
        "\n",
        "  #Setting optimization function\n",
        "  if optimization == 'sgd':\n",
        "    opti = sgd(epochs=epochs, eta=eta)\n",
        "  elif optimization == 'momentum':\n",
        "    opti = momentum_gd(epochs=epochs, eta=eta, batch_size=batch_size)\n",
        "  elif optimization == 'nesterov':\n",
        "    opti = nesterov(epochs=epochs,eta=eta,batch_size=batch_size)\n",
        "  else:\n",
        "    print('Optimization algo given is not available')\n",
        "\n",
        "  #Setting output function\n",
        "  if output_func == 'softmax':\n",
        "    output = softmax\n",
        "\n",
        "  #Split data \n",
        "  X = x_train\n",
        "  Y = y_train\n",
        "  \n",
        "  weights, bias = wt_init()\n",
        "\n",
        "  opti\n",
        "\n"
      ],
      "execution_count": 35,
      "outputs": []
    },
    {
      "cell_type": "code",
      "metadata": {
        "id": "tmuRg4ntRRCA"
      },
      "source": [
        "Train(X, Y)"
      ],
      "execution_count": 36,
      "outputs": []
    },
    {
      "cell_type": "code",
      "metadata": {
        "id": "NKe0dzJ6Rgd6"
      },
      "source": [
        "output = softmax\n",
        "y_, A, H = forward_prop(weights,bias,x_train[1], sigmoid)"
      ],
      "execution_count": 39,
      "outputs": []
    },
    {
      "cell_type": "code",
      "metadata": {
        "id": "jSJ7U-zeTLUV"
      },
      "source": [
        "\"\"\"\n",
        "Error function\n",
        "\n",
        "inputs:\n",
        "\n",
        "  1. y_hat\n",
        "  2. y\n",
        "  3. error func\n",
        "\n",
        "\"\"\"\n",
        "\n",
        "def error(y, y_hat):\n",
        "  return -np.log(np.dot(y, y_hat))"
      ],
      "execution_count": 43,
      "outputs": []
    },
    {
      "cell_type": "code",
      "metadata": {
        "colab": {
          "base_uri": "https://localhost:8080/"
        },
        "id": "hdB8KdZYTstt",
        "outputId": "be2da150-64b9-4859-987d-7228ae03a66f"
      },
      "source": [
        ""
      ],
      "execution_count": 44,
      "outputs": [
        {
          "output_type": "execute_result",
          "data": {
            "text/plain": [
              "1.8879407248082172"
            ]
          },
          "metadata": {
            "tags": []
          },
          "execution_count": 44
        }
      ]
    },
    {
      "cell_type": "code",
      "metadata": {
        "id": "TkXIzAXEUtUP"
      },
      "source": [
        ""
      ],
      "execution_count": null,
      "outputs": []
    }
  ]
}