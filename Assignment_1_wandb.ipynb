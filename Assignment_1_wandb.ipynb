{
  "nbformat": 4,
  "nbformat_minor": 0,
  "metadata": {
    "colab": {
      "name": "Assignment_1_wandb.ipynb",
      "provenance": [],
      "collapsed_sections": [],
      "include_colab_link": true
    },
    "kernelspec": {
      "display_name": "Python 3",
      "language": "python",
      "name": "python3"
    },
    "language_info": {
      "codemirror_mode": {
        "name": "ipython",
        "version": 3
      },
      "file_extension": ".py",
      "mimetype": "text/x-python",
      "name": "python",
      "nbconvert_exporter": "python",
      "pygments_lexer": "ipython3",
      "version": "3.7.4"
    }
  },
  "cells": [
    {
      "cell_type": "markdown",
      "metadata": {
        "id": "view-in-github",
        "colab_type": "text"
      },
      "source": [
        "<a href=\"https://colab.research.google.com/github/sanjeevrs2000/CS6910-Assignment/blob/main/Assignment_1_wandb.ipynb\" target=\"_parent\"><img src=\"https://colab.research.google.com/assets/colab-badge.svg\" alt=\"Open In Colab\"/></a>"
      ]
    },
    {
      "cell_type": "code",
      "metadata": {
        "id": "ZuK0pkO0-NEl"
      },
      "source": [
        "import numpy as np\n",
        "import pandas as pd\n",
        "import keras\n",
        "import math\n",
        "import matplotlib.pyplot as plt\n",
        "import tensorflow as tf\n",
        "import wandb"
      ],
      "execution_count": null,
      "outputs": []
    },
    {
      "cell_type": "code",
      "metadata": {
        "id": "W9f1IcGE-ylT"
      },
      "source": [
        "from keras.datasets import fashion_mnist"
      ],
      "execution_count": null,
      "outputs": []
    },
    {
      "cell_type": "code",
      "metadata": {
        "id": "63jtDyXR-8Wb"
      },
      "source": [
        "(trainx, trainy), (testx, testy)= fashion_mnist.load_data()"
      ],
      "execution_count": null,
      "outputs": []
    },
    {
      "cell_type": "code",
      "metadata": {
        "colab": {
          "base_uri": "https://localhost:8080/"
        },
        "id": "Jv_U2q2O_Ae1",
        "outputId": "e7df0a7e-3151-43dc-8d69-95dc9883c333"
      },
      "source": [
        "classes = np.unique(trainy)\n",
        "index_mat = [0]*10\n",
        "for i in classes:\n",
        "  index_mat[i] = trainy.tolist().index(i)\n",
        "index_mat"
      ],
      "execution_count": null,
      "outputs": [
        {
          "output_type": "execute_result",
          "data": {
            "text/plain": [
              "[1, 16, 5, 3, 19, 8, 18, 6, 23, 0]"
            ]
          },
          "metadata": {
            "tags": []
          },
          "execution_count": 4
        }
      ]
    },
    {
      "cell_type": "code",
      "metadata": {
        "colab": {
          "base_uri": "https://localhost:8080/",
          "height": 555
        },
        "id": "gJVzuoGqCaYe",
        "outputId": "a5069015-db5b-42dd-d031-d89dfccb6669"
      },
      "source": [
        "plt.figure(figsize=(10,10))\n",
        "\n",
        "for j, i in enumerate(index_mat):\n",
        "  plt.subplot(3,4,j+1)\n",
        "  plt.imshow(trainx[i], cmap=plt.get_cmap('gray'))\n",
        "  \n",
        "plt.show()"
      ],
      "execution_count": null,
      "outputs": [
        {
          "output_type": "display_data",
          "data": {
            "image/png": "[encoded data removed]",
            "text/plain": [
              "<Figure size 720x720 with 10 Axes>"
            ]
          },
          "metadata": {
            "tags": [],
            "needs_background": "light"
          }
        }
      ]
    },
    {
      "cell_type": "markdown",
      "metadata": {
        "id": "OVg4nkolBLvH"
      },
      "source": [
        "**Defining the Neural Network**\n"
      ]
    },
    {
      "cell_type": "code",
      "metadata": {
        "id": "zmSEEiteEX-O"
      },
      "source": [
        "num_hidden_layers = 3    #Input the number of hidden layers here         \n",
        "\n",
        "input_layer_size = 784  #input number of inputs here\n",
        "\n",
        "output_layer_size = 10  #input number of output nodes here\n",
        "\n",
        "num_nodes = [input_layer_size, 32, 32, 32, output_layer_size]  # input number of nodes in each layer here!\n",
        "\n",
        "num_weight_mat = num_hidden_layers+1"
      ],
      "execution_count": null,
      "outputs": []
    },
    {
      "cell_type": "markdown",
      "metadata": {
        "id": "izvGxTbgBglf"
      },
      "source": [
        "**Weight Initialization Functions**"
      ]
    },
    {
      "cell_type": "code",
      "metadata": {
        "id": "ZLxSvg-3dPsd"
      },
      "source": [
        "def init_random():\n",
        "  weights={}\n",
        "  bias = {}\n",
        "  for i in  range(1,num_weight_mat+1):\n",
        "    weights['W%s'% i] = np.random.randn(int(num_nodes[i]),int(num_nodes[i-1]))\n",
        "    bias['b%s'% i] = np.random.randn(int(num_nodes[i]))\n",
        "    \n",
        "  return weights, bias\n",
        "\n",
        "def init_xavier():\n",
        "  weights={}\n",
        "  bias = {}\n",
        "  for i in  range(1,num_weight_mat+1):\n",
        "    weights['W%s'%i] = np.random.normal(0, 1/input_layer_size ,size=([int(num_nodes[i]),int(num_nodes[i-1])]))\n",
        "    bias['b%s'%i] = np.ones(int(num_nodes[i]))\n",
        "    \n",
        "  return weights, bias\n",
        "\n",
        "def init_zeros():\n",
        "  weights={}\n",
        "  bias = {}\n",
        "  for i in  range(1,num_weight_mat+1):\n",
        "    weights['W%s'% i] = np.zeros([int(num_nodes[i]),int(num_nodes[i-1])])\n",
        "    bias['b%s'% i] = np.zeros(int(num_nodes[i]))\n",
        "\n",
        "  return weights,bias\n"
      ],
      "execution_count": null,
      "outputs": []
    },
    {
      "cell_type": "markdown",
      "metadata": {
        "id": "LTXvSYKOBsWK"
      },
      "source": [
        "**Activation Functions**"
      ]
    },
    {
      "cell_type": "code",
      "metadata": {
        "id": "EKFvn_AuzWK8"
      },
      "source": [
        "def sigmoid(x):\n",
        "    return 1/(1+np.exp(-x))\n",
        "\n",
        "def tanh(x):\n",
        "  return (np.exp(x)-np.exp(-x))/(np.exp(x)+np.exp(-x))\n",
        "\n",
        "def relu(x):\n",
        "  if x<0:\n",
        "    return 0\n",
        "  else:\n",
        "    return x"
      ],
      "execution_count": null,
      "outputs": []
    },
    {
      "cell_type": "markdown",
      "metadata": {
        "id": "relsJyiAB2HX"
      },
      "source": [
        "**Gradients of Activation functions**"
      ]
    },
    {
      "cell_type": "code",
      "metadata": {
        "id": "cpo7WQtZB9hK"
      },
      "source": [
        "def grad_tanh(x):\n",
        "  return 1-(tanh(x))^2\n",
        "\n",
        "def grad_relu(x):\n",
        "  if x<0:\n",
        "    return 0\n",
        "  else:\n",
        "    return 1\n",
        "\n",
        "def grad_sigmoid(x):\n",
        "  return (sigmoid(x)*(1-sigmoid(x)))"
      ],
      "execution_count": null,
      "outputs": []
    },
    {
      "cell_type": "markdown",
      "metadata": {
        "id": "c2Js04g7CCr6"
      },
      "source": [
        "**Output Function**"
      ]
    },
    {
      "cell_type": "code",
      "metadata": {
        "id": "sTTtCT8yCHG2"
      },
      "source": [
        "def softmax(x):\n",
        "    # Numerically stable with large exponentials\n",
        "    exps = np.exp(x )\n",
        "    return exps / np.sum(exps)"
      ],
      "execution_count": null,
      "outputs": []
    },
    {
      "cell_type": "markdown",
      "metadata": {
        "id": "Xt2U2GPSCNGy"
      },
      "source": [
        "**Funtion for Forward Propagation**"
      ]
    },
    {
      "cell_type": "code",
      "metadata": {
        "id": "oBx_jT8QzT3s"
      },
      "source": [
        "\"\"\"\n",
        "Inputs required:\n",
        "\n",
        "  weights and bias\n",
        "  x_train\n",
        "  activation function\n",
        "  output function\n",
        "  num of hidden layers\n",
        "\n",
        "\n",
        "\"\"\"\n",
        "\n",
        "\n",
        "\n",
        "def forward_prop(w,b,x, activation):\n",
        "  Acti = {}\n",
        "  H = {}\n",
        "  \n",
        "  H['H0'] = x\n",
        "  \n",
        "  for i in range(1,num_hidden_layers+1):\n",
        "    Acti[('A%s'% i)] = np.matmul(w['W%s'% i],H[('H%s'% (i-1))])+b['b%s'% i]\n",
        "    H['H%s'% i] = activation(Acti['A%s'% i])\n",
        "  \n",
        "  Acti['A%s'%(num_hidden_layers+1)]= np.matmul(w['W%s'% (num_hidden_layers+1)],H['H%s'% (num_hidden_layers)])+b['b%s'% (num_hidden_layers+1)]\n",
        "  y_hat = output(Acti['A%s'% (num_hidden_layers+1)])  \n",
        "  \n",
        "  return y_hat, Acti, H\n",
        "\n"
      ],
      "execution_count": null,
      "outputs": []
    },
    {
      "cell_type": "code",
      "metadata": {
        "colab": {
          "base_uri": "https://localhost:8080/"
        },
        "id": "zcRfsy9P--ak",
        "outputId": "7bb422e7-8c93-473f-ccdd-63ce1992dda1"
      },
      "source": [
        "x_train = trainx.reshape(60000,784)/255.0\n",
        "#one hot encoding y \n",
        "temp = np.zeros((60000,10))\n",
        "temp[np.arange(60000),trainy] = 1\n",
        "y_train=temp\n",
        "y_train\n",
        "#trainy"
      ],
      "execution_count": null,
      "outputs": [
        {
          "output_type": "execute_result",
          "data": {
            "text/plain": [
              "array([[0., 0., 0., ..., 0., 0., 1.],\n",
              "       [1., 0., 0., ..., 0., 0., 0.],\n",
              "       [1., 0., 0., ..., 0., 0., 0.],\n",
              "       ...,\n",
              "       [0., 0., 0., ..., 0., 0., 0.],\n",
              "       [1., 0., 0., ..., 0., 0., 0.],\n",
              "       [0., 0., 0., ..., 0., 0., 0.]])"
            ]
          },
          "metadata": {
            "tags": []
          },
          "execution_count": 11
        }
      ]
    },
    {
      "cell_type": "markdown",
      "metadata": {
        "id": "OIeb3fW3CZwB"
      },
      "source": [
        "**Funtion for Back propagation**"
      ]
    },
    {
      "cell_type": "code",
      "metadata": {
        "id": "ZbGrp66HX71j"
      },
      "source": [
        "\"\"\"\n",
        "\n",
        "# grad_A[Al] = -(y-y_hat)\n",
        "# grad_W[Wk] = grad_A[Ak]*H[H(k-1)]'\n",
        "# grad_b[bk] = grad_A[Ak]\n",
        "# grad_H[H(k-1)] = W[Wk]'*grad_A[Ak]\n",
        "# grad_A[A(k-1)] = grad_H[H(k-1)] (dot) grad_g(A(k-1)) \n",
        "\n",
        "# y(one-hot-encoded)\n",
        "#y_hat\n",
        "#H matrix from feed forward\n",
        "#A matrix from feed forward\n",
        "#grad_g func\n",
        "\n",
        "Inputs required:\n",
        "\n",
        "  weights and bias\n",
        "  forward_prop (y_hat, A, H)\n",
        "  x_train, y_train\n",
        "  activation func\n",
        "  Derivative of activation func\n",
        "  num of hidden layers\n",
        "\n",
        "\n",
        "\n",
        "\"\"\"\n",
        "\n",
        "\n",
        "def back_prop( w,b,der_activ ,x,y):\n",
        "  grad_A = {}\n",
        "  grad_W = {}\n",
        "  grad_b = {}\n",
        "  grad_H = {}  \n",
        "\n",
        "  y_hat, A, H = forward_prop(w,b,x, sigmoid)\n",
        "\n",
        "  grad_A['A%s'% (num_hidden_layers+1)] = -(y-y_hat)\n",
        "\n",
        "  for i in range(num_hidden_layers+1, 1, -1):\n",
        "    \n",
        "    grad_W['W%s'%i] = np.matmul(grad_A['A%s'%i].reshape(-1,1), H['H%s'%(i-1)].reshape(1,-1))\n",
        "\n",
        "    grad_b['b%s'%i] = grad_A['A%s'%i]\n",
        "\n",
        "    grad_H['H%s'%(i-1)] = np.dot(np.transpose(w['W%s'%i]), grad_A['A%s'%i]) #check once if this is logically correct (Looks good)\n",
        "\n",
        "    grad_A['A%s'%(i-1)] = np.multiply(grad_H['H%s'%(i-1)], der_activ(A['A%s'%(i-1)]))\n",
        "\n",
        "  grad_W['W1'] = np.multiply(grad_A['A1'].reshape(-1,1), H['H0'].reshape(1,-1))\n",
        "\n",
        "  grad_b['b1'] = grad_A['A1']\n",
        "\n",
        "  return grad_W, grad_b\n",
        "\n",
        "\n",
        "\n"
      ],
      "execution_count": null,
      "outputs": []
    },
    {
      "cell_type": "markdown",
      "metadata": {
        "id": "53bDvB_lCiq1"
      },
      "source": [
        "## **Optimization Funtions**\n",
        "\n"
      ]
    },
    {
      "cell_type": "markdown",
      "metadata": {
        "id": "ZO19Sku2C3nE"
      },
      "source": [
        "**Stochastic Gradient descent**"
      ]
    },
    {
      "cell_type": "code",
      "metadata": {
        "id": "pzQX3-PoJ6-P"
      },
      "source": [
        "\"\"\"\n",
        "Inputs required:\n",
        "\n",
        "  X, Y => x_train and y_train\n",
        "  epochs\n",
        "  eta\n",
        "  weights and bias\n",
        "  grad of activation func\n",
        "  num of hidden layers\n",
        "\n",
        "\n",
        "\n",
        "\"\"\"\n",
        "\n",
        "\n",
        "def sgd(epochs, eta):\n",
        "\n",
        "  for k in range(epochs):\n",
        "    for x,y in zip(X,Y):\n",
        "      grad_w,grad_b=back_prop( weights,bias,grad_sigmoid,x,y)\n",
        "      for j in range(1,num_hidden_layers+2):\n",
        "        \n",
        "        weights['W%s'%j]-=(grad_w['W%s'%j])*eta\n",
        "        bias['b%s'%j]-=(grad_b['b%s'%j])*eta\n"
      ],
      "execution_count": null,
      "outputs": []
    },
    {
      "cell_type": "markdown",
      "metadata": {
        "id": "41DoRI9sDIA1"
      },
      "source": [
        "**Momentum based Gradient descent**\n"
      ]
    },
    {
      "cell_type": "code",
      "metadata": {
        "id": "fY8KWQS2DUmt"
      },
      "source": [
        "\"\"\"\n",
        "Inputs required:\n",
        "\n",
        "  X, Y => x_train and y_train\n",
        "  epochs\n",
        "  eta\n",
        "  weights and bias\n",
        "  grad of activation func\n",
        "  num of hidden layers\n",
        "  batch size\n",
        "  gamma\n",
        "  init_zeros()\n",
        "  \n",
        "\n",
        "\n",
        "\"\"\"\n",
        "\n",
        "def momentum_gd(epochs,eta,batch_size):\n",
        "\n",
        "  gamma=0.9\n",
        "  prev_dw,prev_db=init_zeros()\n",
        "\n",
        "  for k in range(epochs):\n",
        "    count=0   \n",
        "   \n",
        "    dw,db=init_zeros()\n",
        "    \n",
        "    for x,y in zip(X,Y):\n",
        "      \n",
        "      if count==0:\n",
        "        dw,db=init_zeros()\n",
        "      \n",
        "      grad_w,grad_b=back_prop( weights,bias, grad_sigmoid,x,y)\n",
        "\n",
        "      for j in range(1,num_hidden_layers+2):\n",
        "        dw['W%s'%j]+=(grad_w['W%s'%j])\n",
        "        db['b%s'%j]+=(grad_b['b%s'%j])\n",
        "\n",
        "\n",
        "\n",
        "      count+=1\n",
        "\n",
        "      if count%batch_size==0:\n",
        "        weights['W%s'%j]=weights['W%s'%j]-(prev_dw['W%s'%j])*gamma-(dw['W%s'%j])*eta\n",
        "        bias['b%s'%j]=bias['b%s'%j]-(prev_db['b%s'%j])*gamma-(db['b%s'%j])*eta\n",
        "\n",
        "        prev_dw['W%s'%j]=(prev_dw['W%s'%j])*gamma+(dw['W%s'%j])*eta\n",
        "        prev_db['b%s'%j]=(prev_db['b%s'%j])*gamma+(db['b%s'%j])*eta\n",
        "\n",
        "        count=0"
      ],
      "execution_count": null,
      "outputs": []
    },
    {
      "cell_type": "markdown",
      "metadata": {
        "id": "8L4ZAWz9DNOM"
      },
      "source": [
        "**Nesterov Accelerated Gradient Descent**"
      ]
    },
    {
      "cell_type": "code",
      "metadata": {
        "id": "1msdw8KvDZ_g"
      },
      "source": [
        "def nesterov(epochs,eta,batch_size):\n",
        "\n",
        "  gamma=0.9\n",
        "  prev_vw,prev_vb=init_zeros()\n",
        "  temp_w,temp_b=init_zeros()\n",
        "  dw,db=init_zeros()\n",
        "  v_w,v_b=init_zeros()\n",
        "\n",
        "  for k in range(epochs):\n",
        "    count=0\n",
        "\n",
        "    if count==0:\n",
        "      for j in range(1,num_hidden_layers+2):\n",
        "          v_w['W%s'%j]=prev_vw['W%s'%j]*gamma \n",
        "          v_b['b%s'%j]=prev_vb['b%s'%j]*gamma \n",
        "\n",
        "\n",
        "    for x,y in zip(X,Y):\n",
        "      if count==0:\n",
        "        dw,db=init_zeros()\n",
        "\n",
        "      for j in range(1,num_hidden_layers+2):\n",
        "        temp_w['W%s'%j]=weights['W%s'%j]-v_w['W%s'%j]\n",
        "        temp_b['b%s'%j]=bias['b%s'%j]-v_b['b%s'%j]\n",
        "      \n",
        "      grad_w,grad_b=back_prop(temp_w,temp_b,grad_sigmoid,x,y)      \n",
        "      for j in range(1,num_hidden_layers+2):\n",
        "        dw['W%s'%j]+=(grad_w['W%s'%j])\n",
        "        db['b%s'%j]+=(grad_b['b%s'%j])\n",
        "      count+=1\n",
        "\n",
        "      if count%batch_size==0:\n",
        "        \n",
        "        for j in range(1,num_hidden_layers+2):\n",
        "          v_w['W%s'%j]=(prev_vw['W%s'%j])*gamma + (dw['W%s'%j])*eta\n",
        "          v_b['b%s'%j]=(prev_vb['b%s'%j])*gamma + (db['b%s'%j])*eta\n",
        "          weights['W%s'%j]-=v_w['W%s'%j]\n",
        "          bias['b%s'%j]-=v_b['b%s'%j]\n",
        "          prev_vw['W%s'%j]=v_w['W%s'%j]\n",
        "          prev_vb['b%s'%j]=v_b['b%s'%j]\n",
        "\n",
        "        count=0"
      ],
      "execution_count": null,
      "outputs": []
    },
    {
      "cell_type": "markdown",
      "metadata": {
        "id": "kzOwAFBYy2JL"
      },
      "source": [
        "**Adagrad**\n"
      ]
    },
    {
      "cell_type": "code",
      "metadata": {
        "id": "UZzPhq6Qy22n"
      },
      "source": [
        "def adagrad(epochs,eta,batch_size):\n",
        "  \n",
        "  eps = 1e-8\n",
        "\n",
        "  v_w,v_b=init_zeros()\n",
        "\n",
        "  for k in range(epochs):\n",
        "    count=0\n",
        "    dw,db=init_zeros()\n",
        "    \n",
        "    for x,y in zip(X,Y):\n",
        "\n",
        "      if count==0:\n",
        "        dw,db=init_zeros()\n",
        "      \n",
        "      grad_w,grad_b=back_prop( weights,bias, grad_sigmoid,x,y)\n",
        "      for j in range(1,num_hidden_layers+2):\n",
        "        dw['W%s'%j]+=(grad_w['W%s'%j])\n",
        "        db['b%s'%j]+=(grad_b['b%s'%j])\n",
        "      count+=1\n",
        "\n",
        "      if count%batch_size==0:\n",
        "\n",
        "        for j in range(1,num_hidden_layers+2):\n",
        "          v_w['W%s'%j] += np.square(dw['W%s'%j])\n",
        "          v_b['b%s'%j] += np.square(db['b%s'%j]) \n",
        "          weights['W%s'%j] -= (dw['W%s'%j])*(eta/np.sqrt(v_w['W%s'%j] + eps))\n",
        "          bias['b%s'%j] -= (db['b%s'%j])*(eta/np.sqrt(v_b['b%s'%j] + eps))\n",
        "\n",
        "          count=0"
      ],
      "execution_count": null,
      "outputs": []
    },
    {
      "cell_type": "markdown",
      "metadata": {
        "id": "4I6hOlkzy3mm"
      },
      "source": [
        "**RMSProp**"
      ]
    },
    {
      "cell_type": "code",
      "metadata": {
        "id": "CTk-kRbvy4Oe"
      },
      "source": [
        "def rmsprop(epochs,eta,batch_size):\n",
        "  \n",
        "  eps = 1e-8\n",
        "  beta1 = 0.9\n",
        "\n",
        "  v_w,v_b=init_zeros()\n",
        "\n",
        "  for k in range(epochs):\n",
        "    count=0\n",
        "    dw,db=init_zeros()\n",
        "    \n",
        "    for x,y in zip(X,Y):\n",
        "\n",
        "      if count==0:\n",
        "        dw,db=init_zeros()\n",
        "      \n",
        "      grad_w,grad_b=back_prop( weights,bias, grad_sigmoid,x,y)\n",
        "      for j in range(1,num_hidden_layers+2):\n",
        "        dw['W%s'%j]+=(grad_w['W%s'%j])\n",
        "        db['b%s'%j]+=(grad_b['b%s'%j])\n",
        "      count+=1\n",
        "\n",
        "      if count%batch_size==0:\n",
        "\n",
        "        for j in range(1,num_hidden_layers+2):\n",
        "          v_w['W%s'%j] = beta1*v_w['W%s'%j] + (1-beta1)*np.square(dw['W%s'%j])\n",
        "          v_b['b%s'%j] = beta1*v_b['b%s'%j] + (1-beta1)*np.square(db['b%s'%j]) \n",
        "          weights['W%s'%j] -= (dw['W%s'%j])*(eta/np.sqrt(v_w['W%s'%j] + eps))\n",
        "          bias['b%s'%j] -= (db['b%s'%j])*(eta/np.sqrt(v_b['b%s'%j] + eps))\n",
        "\n",
        "          count=0"
      ],
      "execution_count": null,
      "outputs": []
    },
    {
      "cell_type": "markdown",
      "metadata": {
        "id": "EQ6GNjQYy4-q"
      },
      "source": [
        "**Adam**"
      ]
    },
    {
      "cell_type": "code",
      "metadata": {
        "id": "gm3EXW5Ky53x"
      },
      "source": [
        "def adam(epochs,eta,batch_size):\n",
        "  \n",
        "  eps = 1e-8\n",
        "  beta1 = 0.9\n",
        "  beta2 = 0.999\n",
        "\n",
        "  v_w,v_b=init_zeros()\n",
        "  v_w_hat,v_b_hat=init_zeros()\n",
        "\n",
        "  m_w,m_b=init_zeros()\n",
        "  m_w_hat,m_b_hat=init_zeros()\n",
        "\n",
        "  for k in range(epochs):\n",
        "    \n",
        "    count=0\n",
        "    dw,db=init_zeros()\n",
        "    \n",
        "    for x,y in zip(X,Y):\n",
        "\n",
        "      if count==0:\n",
        "        dw,db=init_zeros()\n",
        "      \n",
        "      grad_w,grad_b=back_prop( weights,bias, grad_sigmoid,x,y)\n",
        "      for j in range(1,num_hidden_layers+2):\n",
        "        dw['W%s'%j]+=(grad_w['W%s'%j])\n",
        "        db['b%s'%j]+=(grad_b['b%s'%j])\n",
        "      count+=1\n",
        "\n",
        "      if count%batch_size==0:\n",
        "\n",
        "        for j in range(1,num_hidden_layers+2):\n",
        "          \n",
        "          v_w['W%s'%j] = beta2*v_w['W%s'%j] + (1-beta2)*np.square(dw['W%s'%j])\n",
        "          v_b['b%s'%j] = beta2*v_b['b%s'%j] + (1-beta2)*np.square(db['b%s'%j]) \n",
        "\n",
        "          v_w_hat['W%s'%j] = v_w['W%s'%j]*1/(1-math.pow(beta2,k+1))\n",
        "          v_b_hat['b%s'%j] = v_b['b%s'%j]*1/(1-math.pow(beta2,k+1))\n",
        "\n",
        "          m_w['W%s'%j] = beta1*m_w['W%s'%j] + (1-beta1)*(dw['W%s'%j])\n",
        "          m_b['b%s'%j] = beta1*m_b['b%s'%j] + (1-beta1)*(db['b%s'%j]) \n",
        "\n",
        "          m_w_hat['W%s'%j] = m_w['W%s'%j]*1/(1-math.pow(beta1,k+1))\n",
        "          m_b_hat['b%s'%j] = m_b['b%s'%j]*1/(1-math.pow(beta1,k+1))\n",
        "          \n",
        "          weights['W%s'%j] -= (m_w_hat['W%s'%j])*(eta/np.sqrt(v_w_hat['W%s'%j] + eps)) \n",
        "          bias['b%s'%j] -= (m_b_hat['b%s'%j])*(eta/np.sqrt(v_b_hat['b%s'%j] + eps))\n",
        "\n",
        "          count=0"
      ],
      "execution_count": null,
      "outputs": []
    },
    {
      "cell_type": "code",
      "metadata": {
        "id": "U9JQ5j7WgSQj",
        "outputId": "588cbd9c-4c3c-4457-f3ca-78aed85e8bf9"
      },
      "source": [
        "#sample run\n",
        "X,Y=x_train[:1000],y_train[:1000]\n",
        "weights,bias=init_random()\n",
        "#momentum_gd(5,0.1,64) # takes approx 2 mins to train full training set ie 60000 inputs\n",
        "#sgd(0.1,5) \n",
        "nesterov(5,0.1,32)\n",
        "\n",
        "#forward_prop()"
      ],
      "execution_count": null,
      "outputs": [
        {
          "output_type": "error",
          "ename": "NameError",
          "evalue": "name 'output' is not defined",
          "traceback": [
            "\u001b[1;31m---------------------------------------------------------------------------\u001b[0m",
            "\u001b[1;31mNameError\u001b[0m                                 Traceback (most recent call last)",
            "\u001b[1;32m<ipython-input-19-65b37b1e2158>\u001b[0m in \u001b[0;36m<module>\u001b[1;34m\u001b[0m\n\u001b[0;32m      4\u001b[0m \u001b[1;31m#momentum_gd(5,0.1,64) # takes approx 2 mins to train full training set ie 60000 inputs\u001b[0m\u001b[1;33m\u001b[0m\u001b[1;33m\u001b[0m\u001b[1;33m\u001b[0m\u001b[0m\n\u001b[0;32m      5\u001b[0m \u001b[1;31m#sgd(0.1,5)\u001b[0m\u001b[1;33m\u001b[0m\u001b[1;33m\u001b[0m\u001b[1;33m\u001b[0m\u001b[0m\n\u001b[1;32m----> 6\u001b[1;33m \u001b[0mnesterov\u001b[0m\u001b[1;33m(\u001b[0m\u001b[1;36m5\u001b[0m\u001b[1;33m,\u001b[0m\u001b[1;36m0.1\u001b[0m\u001b[1;33m,\u001b[0m\u001b[1;36m32\u001b[0m\u001b[1;33m)\u001b[0m\u001b[1;33m\u001b[0m\u001b[1;33m\u001b[0m\u001b[0m\n\u001b[0m\u001b[0;32m      7\u001b[0m \u001b[1;33m\u001b[0m\u001b[0m\n\u001b[0;32m      8\u001b[0m \u001b[1;31m#forward_prop()\u001b[0m\u001b[1;33m\u001b[0m\u001b[1;33m\u001b[0m\u001b[1;33m\u001b[0m\u001b[0m\n",
            "\u001b[1;32m<ipython-input-15-1e1be5632475>\u001b[0m in \u001b[0;36mnesterov\u001b[1;34m(epochs, eta, batch_size)\u001b[0m\n\u001b[0;32m     24\u001b[0m         \u001b[0mtemp_b\u001b[0m\u001b[1;33m[\u001b[0m\u001b[1;34m'b%s'\u001b[0m\u001b[1;33m%\u001b[0m\u001b[0mj\u001b[0m\u001b[1;33m]\u001b[0m\u001b[1;33m=\u001b[0m\u001b[0mbias\u001b[0m\u001b[1;33m[\u001b[0m\u001b[1;34m'b%s'\u001b[0m\u001b[1;33m%\u001b[0m\u001b[0mj\u001b[0m\u001b[1;33m]\u001b[0m\u001b[1;33m-\u001b[0m\u001b[0mv_b\u001b[0m\u001b[1;33m[\u001b[0m\u001b[1;34m'b%s'\u001b[0m\u001b[1;33m%\u001b[0m\u001b[0mj\u001b[0m\u001b[1;33m]\u001b[0m\u001b[1;33m\u001b[0m\u001b[1;33m\u001b[0m\u001b[0m\n\u001b[0;32m     25\u001b[0m \u001b[1;33m\u001b[0m\u001b[0m\n\u001b[1;32m---> 26\u001b[1;33m       \u001b[0mgrad_w\u001b[0m\u001b[1;33m,\u001b[0m\u001b[0mgrad_b\u001b[0m\u001b[1;33m=\u001b[0m\u001b[0mback_prop\u001b[0m\u001b[1;33m(\u001b[0m\u001b[0mtemp_w\u001b[0m\u001b[1;33m,\u001b[0m\u001b[0mtemp_b\u001b[0m\u001b[1;33m,\u001b[0m\u001b[0mgrad_sigmoid\u001b[0m\u001b[1;33m,\u001b[0m\u001b[0mx\u001b[0m\u001b[1;33m,\u001b[0m\u001b[0my\u001b[0m\u001b[1;33m)\u001b[0m\u001b[1;33m\u001b[0m\u001b[1;33m\u001b[0m\u001b[0m\n\u001b[0m\u001b[0;32m     27\u001b[0m       \u001b[1;32mfor\u001b[0m \u001b[0mj\u001b[0m \u001b[1;32min\u001b[0m \u001b[0mrange\u001b[0m\u001b[1;33m(\u001b[0m\u001b[1;36m1\u001b[0m\u001b[1;33m,\u001b[0m\u001b[0mnum_hidden_layers\u001b[0m\u001b[1;33m+\u001b[0m\u001b[1;36m2\u001b[0m\u001b[1;33m)\u001b[0m\u001b[1;33m:\u001b[0m\u001b[1;33m\u001b[0m\u001b[1;33m\u001b[0m\u001b[0m\n\u001b[0;32m     28\u001b[0m         \u001b[0mdw\u001b[0m\u001b[1;33m[\u001b[0m\u001b[1;34m'W%s'\u001b[0m\u001b[1;33m%\u001b[0m\u001b[0mj\u001b[0m\u001b[1;33m]\u001b[0m\u001b[1;33m+=\u001b[0m\u001b[1;33m(\u001b[0m\u001b[0mgrad_w\u001b[0m\u001b[1;33m[\u001b[0m\u001b[1;34m'W%s'\u001b[0m\u001b[1;33m%\u001b[0m\u001b[0mj\u001b[0m\u001b[1;33m]\u001b[0m\u001b[1;33m)\u001b[0m\u001b[1;33m\u001b[0m\u001b[1;33m\u001b[0m\u001b[0m\n",
            "\u001b[1;32m<ipython-input-12-e894af8661b3>\u001b[0m in \u001b[0;36mback_prop\u001b[1;34m(w, b, der_activ, x, y)\u001b[0m\n\u001b[0;32m     33\u001b[0m   \u001b[0mgrad_H\u001b[0m \u001b[1;33m=\u001b[0m \u001b[1;33m{\u001b[0m\u001b[1;33m}\u001b[0m\u001b[1;33m\u001b[0m\u001b[1;33m\u001b[0m\u001b[0m\n\u001b[0;32m     34\u001b[0m \u001b[1;33m\u001b[0m\u001b[0m\n\u001b[1;32m---> 35\u001b[1;33m   \u001b[0my_hat\u001b[0m\u001b[1;33m,\u001b[0m \u001b[0mA\u001b[0m\u001b[1;33m,\u001b[0m \u001b[0mH\u001b[0m \u001b[1;33m=\u001b[0m \u001b[0mforward_prop\u001b[0m\u001b[1;33m(\u001b[0m\u001b[0mw\u001b[0m\u001b[1;33m,\u001b[0m\u001b[0mb\u001b[0m\u001b[1;33m,\u001b[0m\u001b[0mx\u001b[0m\u001b[1;33m,\u001b[0m \u001b[0msigmoid\u001b[0m\u001b[1;33m)\u001b[0m\u001b[1;33m\u001b[0m\u001b[1;33m\u001b[0m\u001b[0m\n\u001b[0m\u001b[0;32m     36\u001b[0m \u001b[1;33m\u001b[0m\u001b[0m\n\u001b[0;32m     37\u001b[0m   \u001b[0mgrad_A\u001b[0m\u001b[1;33m[\u001b[0m\u001b[1;34m'A%s'\u001b[0m\u001b[1;33m%\u001b[0m \u001b[1;33m(\u001b[0m\u001b[0mnum_hidden_layers\u001b[0m\u001b[1;33m+\u001b[0m\u001b[1;36m1\u001b[0m\u001b[1;33m)\u001b[0m\u001b[1;33m]\u001b[0m \u001b[1;33m=\u001b[0m \u001b[1;33m-\u001b[0m\u001b[1;33m(\u001b[0m\u001b[0my\u001b[0m\u001b[1;33m-\u001b[0m\u001b[0my_hat\u001b[0m\u001b[1;33m)\u001b[0m\u001b[1;33m\u001b[0m\u001b[1;33m\u001b[0m\u001b[0m\n",
            "\u001b[1;32m<ipython-input-10-3f6a6760c42f>\u001b[0m in \u001b[0;36mforward_prop\u001b[1;34m(w, b, x, activation)\u001b[0m\n\u001b[0;32m     24\u001b[0m \u001b[1;33m\u001b[0m\u001b[0m\n\u001b[0;32m     25\u001b[0m   \u001b[0mActi\u001b[0m\u001b[1;33m[\u001b[0m\u001b[1;34m'A%s'\u001b[0m\u001b[1;33m%\u001b[0m\u001b[1;33m(\u001b[0m\u001b[0mnum_hidden_layers\u001b[0m\u001b[1;33m+\u001b[0m\u001b[1;36m1\u001b[0m\u001b[1;33m)\u001b[0m\u001b[1;33m]\u001b[0m\u001b[1;33m=\u001b[0m \u001b[0mnp\u001b[0m\u001b[1;33m.\u001b[0m\u001b[0mmatmul\u001b[0m\u001b[1;33m(\u001b[0m\u001b[0mw\u001b[0m\u001b[1;33m[\u001b[0m\u001b[1;34m'W%s'\u001b[0m\u001b[1;33m%\u001b[0m \u001b[1;33m(\u001b[0m\u001b[0mnum_hidden_layers\u001b[0m\u001b[1;33m+\u001b[0m\u001b[1;36m1\u001b[0m\u001b[1;33m)\u001b[0m\u001b[1;33m]\u001b[0m\u001b[1;33m,\u001b[0m\u001b[0mH\u001b[0m\u001b[1;33m[\u001b[0m\u001b[1;34m'H%s'\u001b[0m\u001b[1;33m%\u001b[0m \u001b[1;33m(\u001b[0m\u001b[0mnum_hidden_layers\u001b[0m\u001b[1;33m)\u001b[0m\u001b[1;33m]\u001b[0m\u001b[1;33m)\u001b[0m\u001b[1;33m+\u001b[0m\u001b[0mb\u001b[0m\u001b[1;33m[\u001b[0m\u001b[1;34m'b%s'\u001b[0m\u001b[1;33m%\u001b[0m \u001b[1;33m(\u001b[0m\u001b[0mnum_hidden_layers\u001b[0m\u001b[1;33m+\u001b[0m\u001b[1;36m1\u001b[0m\u001b[1;33m)\u001b[0m\u001b[1;33m]\u001b[0m\u001b[1;33m\u001b[0m\u001b[1;33m\u001b[0m\u001b[0m\n\u001b[1;32m---> 26\u001b[1;33m   \u001b[0my_hat\u001b[0m \u001b[1;33m=\u001b[0m \u001b[0moutput\u001b[0m\u001b[1;33m(\u001b[0m\u001b[0mActi\u001b[0m\u001b[1;33m[\u001b[0m\u001b[1;34m'A%s'\u001b[0m\u001b[1;33m%\u001b[0m \u001b[1;33m(\u001b[0m\u001b[0mnum_hidden_layers\u001b[0m\u001b[1;33m+\u001b[0m\u001b[1;36m1\u001b[0m\u001b[1;33m)\u001b[0m\u001b[1;33m]\u001b[0m\u001b[1;33m)\u001b[0m\u001b[1;33m\u001b[0m\u001b[1;33m\u001b[0m\u001b[0m\n\u001b[0m\u001b[0;32m     27\u001b[0m \u001b[1;33m\u001b[0m\u001b[0m\n\u001b[0;32m     28\u001b[0m   \u001b[1;32mreturn\u001b[0m \u001b[0my_hat\u001b[0m\u001b[1;33m,\u001b[0m \u001b[0mActi\u001b[0m\u001b[1;33m,\u001b[0m \u001b[0mH\u001b[0m\u001b[1;33m\u001b[0m\u001b[1;33m\u001b[0m\u001b[0m\n",
            "\u001b[1;31mNameError\u001b[0m: name 'output' is not defined"
          ]
        }
      ]
    },
    {
      "cell_type": "markdown",
      "metadata": {
        "id": "ZlEAt8oEDy0P"
      },
      "source": [
        "# **Train Function**"
      ]
    },
    {
      "cell_type": "code",
      "metadata": {
        "id": "kaDEL9aRj-1o"
      },
      "source": [
        "\"\"\"\n",
        "Code for train funtion:\n",
        "\n",
        "Inputs:\n",
        "\n",
        "  1. num_epochs\n",
        "  2. num_hidden_layers\n",
        "  3. size of hidden layers\n",
        "  4. weight decay (L2 regularisation)\n",
        "  5. learning rate\n",
        "  6. Optimizer\n",
        "  7. Batch size\n",
        "  8. weight initialisation\n",
        "  9. activation functions\n",
        "\n",
        "  10. x_train, y_train\n",
        "  11. train-test-split\n",
        "\n",
        "def train(inputs):\n",
        "\n",
        "  # X,Y,X_val,Y_val = split data into train and validation data sets\n",
        "  \n",
        "  # Y should be one-hot encoded!!!!\n",
        "\n",
        "  # if loops for optimiser\n",
        "  # if loop for activation func\n",
        "  # if loop for derivative of activation func\n",
        "  # if loop for weight initialization\n",
        "\n",
        "  #initialize weights\n",
        "  #call optimizer\n",
        "\n",
        "\n",
        "\"\"\"\n",
        "X=x_train[:50000]\n",
        "Y=y_train[:50000]\n",
        "x_val=x_train[50000:]\n",
        "y_val=y_train[50000:]\n",
        "epochs=5\n",
        "eta=0.01 \n",
        "nhidden=3\n",
        "size=32\n",
        "initialization='xavier'\n",
        "activation='sigmoid'\n",
        "optimization='sgd'\n",
        "batch_size=16\n",
        "gamma=0.9 \n",
        "wt_decay=0 \n",
        "output=softmax"
      ],
      "execution_count": null,
      "outputs": []
    },
    {
      "cell_type": "code",
      "metadata": {
        "id": "TkXIzAXEUtUP"
      },
      "source": [
        "def error(y, y_hat):\n",
        "  return -np.log(np.dot(y, y_hat))\n",
        "\n",
        "def val_error():\n",
        "  y_pred=np.zeros(10000)\n",
        "  val_loss=0\n",
        "  for x,y in zip(x_val,y_val):\n",
        "    fx=forward_prop(weights,bias,x,sigmoid)[0]\n",
        "    val_loss+=error(y,fx)\n",
        "\n",
        "  return val_loss\n",
        "\n",
        "#print(val_error())"
      ],
      "execution_count": null,
      "outputs": []
    },
    {
      "cell_type": "code",
      "metadata": {
        "id": "UNCTXBoyVkIr"
      },
      "source": [
        "sweep_config = {\n",
        "    'method': 'random', #grid, random, bayes\n",
        "    'metric': {\n",
        "      'name': 'loss',\n",
        "      'goal': 'minimize'   \n",
        "    },\n",
        "    'parameters': {\n",
        "        'epochs': {\n",
        "            'values': [5,10]\n",
        "        },\n",
        "        'eta': {\n",
        "            'values': [1e-2, 1e-3, 1e-4]\n",
        "        },\n",
        "        'optimization': {\n",
        "            'values': ['adam']\n",
        "        },\n",
        "        'activation': {\n",
        "            'values': ['sigmoid']\n",
        "        }\n",
        "    }\n",
        "}"
      ],
      "execution_count": null,
      "outputs": []
    },
    {
      "cell_type": "code",
      "metadata": {
        "id": "ZLqX1k6XVkIs"
      },
      "source": [
        "def Train():            #define inputs\n",
        "  \n",
        "  config_defaults = {\n",
        "        'epochs': 5,\n",
        "        'batch_size':64,\n",
        "        'eta': 1e-2,\n",
        "        'activation': 'sigmoid',\n",
        "        'optimization': 'adam',\n",
        "        }\n",
        "\n",
        "  wandb.init(config=config_defaults)\n",
        "\n",
        "  config = wandb.config\n",
        "  \n",
        "  num_hidden_layers = nhidden            \n",
        "\n",
        "  input_layer_size = 784  #input number of inputs here\n",
        "\n",
        "  output_layer_size = 10  #input number of output nodes here\n",
        "\n",
        "  num_nodes = [input_layer_size]\n",
        "\n",
        "  #num_nodes = num_nodes.append(input_layer_size)\n",
        "  for i in range(nhidden):\n",
        "    num_nodes.append(size)\n",
        "  num_nodes.append(output_layer_size)\n",
        "\n",
        "  num_weight_mat = num_hidden_layers+1\n",
        "\n",
        "\n",
        "  L2 = wt_decay\n",
        "\n",
        "  #Setting weight initialization function\n",
        "  if initialization == 'random':\n",
        "    weights,bias=init_random()\n",
        "  elif initialization == 'xavier':\n",
        "    weights,bias = init_xavier()\n",
        "  else:\n",
        "    print('weight initialization given is not available')\n",
        "\n",
        "  #Setting activation function and its derivative\n",
        "  if activation == 'sigmoid':\n",
        "    activ = sigmoid\n",
        "    der_activ = grad_sigmoid\n",
        "  elif activation == 'tanh':\n",
        "    activ = tanh\n",
        "    der_activ = grad_tanh\n",
        "  elif activation == 'relu':\n",
        "    activ = relu\n",
        "    der_activ = grad_relu\n",
        "\n",
        "  #Setting optimization function\n",
        "  if optimization == 'sgd':\n",
        "    sgd(epochs, eta)\n",
        "  elif optimization == 'momentum':\n",
        "    momentum_gd(epochs, eta, batch_size)\n",
        "  elif optimization == 'nesterov':\n",
        "    nesterov(epochs,eta,batch_size)\n",
        "  elif optimization == 'rmsprop':\n",
        "    rmsprop(epochs,eta,batch_size)\n",
        "  elif optimization =='adam':\n",
        "    adam(epocha,eta,batch_size)\n",
        "  else:\n",
        "    print('Optimization algo given is not available')\n",
        "\n",
        "  if optimization == 'sgd':\n",
        "    sgd(epochs=epochs, eta=eta)\n",
        "  elif optimization == 'momentum':\n",
        "    momentum_gd(epochs=epochs, eta=eta, batch_size=batch_size)\n",
        "  elif optimization == 'nesterov':\n",
        "    nesterov(epochs=epochs,eta=eta,batch_size=batch_size)\n",
        "  else:\n",
        "    print('Optimization algo given is not available')\n",
        "\n",
        "  val_loss=val_error()\n",
        "  params={'epochs':epochs,'learning rate':eta,'validation loss':val_loss}\n",
        "  wandb.log(params)"
      ],
      "execution_count": null,
      "outputs": []
    },
    {
      "cell_type": "code",
      "metadata": {
        "id": "VjhAFuAXVkIu"
      },
      "source": [
        "#Train()"
      ],
      "execution_count": null,
      "outputs": []
    },
    {
      "cell_type": "code",
      "metadata": {
        "id": "58RIc8FPVkIu",
        "outputId": "2516c89b-583f-4bc4-c7d6-32d54005ad46"
      },
      "source": [
        "sweep_id = wandb.sweep(sweep_config,entity='sanjeevrs',project='assignment1')"
      ],
      "execution_count": null,
      "outputs": [
        {
          "output_type": "stream",
          "text": [
            "wandb: WARNING Calling wandb.login() after wandb.init() has no effect.\n"
          ],
          "name": "stderr"
        },
        {
          "output_type": "stream",
          "text": [
            "Create sweep with ID: 1h3ij5e9\n",
            "Sweep URL: https://wandb.ai/sanjeevrs/assignment1/sweeps/1h3ij5e9\n"
          ],
          "name": "stdout"
        }
      ]
    },
    {
      "cell_type": "code",
      "metadata": {
        "id": "dZGhI6DJVsID"
      },
      "source": [
        "wandb.agent(sweep_id, Train)"
      ],
      "execution_count": null,
      "outputs": []
    },
    {
      "cell_type": "code",
      "metadata": {
        "id": "l85BpRP_VkIx"
      },
      "source": [
        ""
      ],
      "execution_count": null,
      "outputs": []
    }
  ]
}